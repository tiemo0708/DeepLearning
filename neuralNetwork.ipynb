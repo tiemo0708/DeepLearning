{
 "cells": [
  {
   "cell_type": "code",
   "execution_count": 5,
   "metadata": {},
   "outputs": [
    {
     "name": "stdout",
     "output_type": "stream",
     "text": [
      "(2,)\n",
      "(2, 3)\n",
      "(3,)\n",
      "[0.3 0.7 1.1]\n",
      "[0.57444252 0.66818777 0.75026011]\n",
      "(3,)\n",
      "(3, 2)\n",
      "(2,)\n",
      "[0.51615984 1.21402696]\n",
      "[0.62624937 0.7710107 ]\n",
      "[0.31682708 0.69627909]\n"
     ]
    }
   ],
   "source": [
    "#3.4.2 각층의 신호 전달 구현하기\n",
    "import numpy as np\n",
    "\n",
    "def sigmoid(x):\n",
    "    return 1 / (1+np.exp(-x))\n",
    "\n",
    "\n",
    "#입력층에서 1층으로의 신호 전달\n",
    "X = np.array([1.0, 0.5]) #입력층 뉴런\n",
    "W1 = np.array([[0.1, 0.3, 0.5], [0.2, 0.4, 0.6]]) #1층의 가중치\n",
    "B1 = np.array([0.1, 0.2, 0.3]) #1층의 편향\n",
    "\n",
    "print(X.shape)\n",
    "print(W1.shape)\n",
    "print(B1.shape)\n",
    "A1 = np.dot(X, W1) + B1 # 1층 뉴런들의 값\n",
    "Z1 = sigmoid(A1) #활성화 함수로 변환된 신호\n",
    "\n",
    "print(A1)\n",
    "print(Z1)\n",
    "\n",
    "#1층에서 2층으로의 신호 전달\n",
    "W2 = np.array([[0.1, 0.4], [0.2, 0.5], [0.3, 0.6]]) #2층의 가중치\n",
    "B2 = np.array([0.1, 0.2]) #2층의 편향\n",
    "\n",
    "print(Z1.shape)\n",
    "print(W2.shape)\n",
    "print(B2.shape)\n",
    "\n",
    "A2 = np.dot(Z1, W2) + B2 # 2층 뉴런들의 값\n",
    "Z2 = sigmoid(A2) #활성화 함수로 변환된 신호\n",
    "\n",
    "print(A2)\n",
    "print(Z2)\n",
    "\n",
    "#2층에서 출력층으로의 신호 전달\n",
    "def identify_function(x):\n",
    "    return x\n",
    "\n",
    "W3 = np.array([[0.1, 0.3], [0.2, 0.4]]) #출력층의 가중치\n",
    "B3 = np.array([0.1, 0.2]) #출력층의 편향\n",
    "\n",
    "A3 = np.dot(Z2, W3) + B3 # 출력층 뉴런들의 값\n",
    "Y = identify_function(A3) #활성화 함수로 변환된 신호\n",
    "print(Y)"
   ]
  }
 ],
 "metadata": {
  "kernelspec": {
   "display_name": "Python 3",
   "language": "python",
   "name": "python3"
  },
  "language_info": {
   "codemirror_mode": {
    "name": "ipython",
    "version": 3
   },
   "file_extension": ".py",
   "mimetype": "text/x-python",
   "name": "python",
   "nbconvert_exporter": "python",
   "pygments_lexer": "ipython3",
   "version": "3.7.4"
  },
  "orig_nbformat": 4,
  "vscode": {
   "interpreter": {
    "hash": "949777d72b0d2535278d3dc13498b2535136f6dfe0678499012e853ee9abcab1"
   }
  }
 },
 "nbformat": 4,
 "nbformat_minor": 2
}
