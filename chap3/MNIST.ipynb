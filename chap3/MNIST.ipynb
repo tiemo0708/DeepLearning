{
 "cells": [
  {
   "cell_type": "code",
   "execution_count": 1,
   "metadata": {},
   "outputs": [
    {
     "name": "stdout",
     "output_type": "stream",
     "text": [
      "(60000, 784)\n",
      "(60000,)\n",
      "(10000, 784)\n",
      "(10000,)\n"
     ]
    },
    {
     "data": {
      "text/plain": [
       "(10000,)"
      ]
     },
     "execution_count": 1,
     "metadata": {},
     "output_type": "execute_result"
    }
   ],
   "source": [
    "#.3.6.1  MNIST 데이터셋\n",
    "import sys,os\n",
    "sys.path.append(os.pardir)\n",
    "from dataset.mnist import load_mnist\n",
    "#처음 은 몇 분 정도 걸립니다.\n",
    "\n",
    "(x_train,t_train),(x_test, t_test) = load_mnist(flatten=True,normalize=False) #(훈련이미지, 훈련레이블), (시험이미지, 시험레이블)\n",
    "\n",
    "#각 데이터의 형상 출력\n",
    "print(x_train.shape) # (60000,784)\n",
    "print(t_train.shape) # (60000, )\n",
    "print(x_test.shape) # (10000, 784)\n",
    "print(t_test.shape) # (10000,)\n",
    "\n",
    "(60000, 784)\n",
    "(60000,)\n",
    "(10000, 784)\n",
    "(10000,)"
   ]
  }
 ],
 "metadata": {
  "kernelspec": {
   "display_name": "Python 3",
   "language": "python",
   "name": "python3"
  },
  "language_info": {
   "codemirror_mode": {
    "name": "ipython",
    "version": 3
   },
   "file_extension": ".py",
   "mimetype": "text/x-python",
   "name": "python",
   "nbconvert_exporter": "python",
   "pygments_lexer": "ipython3",
   "version": "3.7.4"
  },
  "orig_nbformat": 4,
  "vscode": {
   "interpreter": {
    "hash": "949777d72b0d2535278d3dc13498b2535136f6dfe0678499012e853ee9abcab1"
   }
  }
 },
 "nbformat": 4,
 "nbformat_minor": 2
}
